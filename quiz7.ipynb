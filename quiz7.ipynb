{
 "cells": [
  {
   "cell_type": "markdown",
   "metadata": {},
   "source": []
  },
  {
   "cell_type": "markdown",
   "metadata": {},
   "source": [
    "## <mark style=\"background-color:teal; color:white\"> Quiz 7 Dictionaries </mark>\n",
    "\t\n"
   ]
  },
  {
   "cell_type": "code",
   "execution_count": 141,
   "metadata": {},
   "outputs": [],
   "source": [
    "import xlrd\n",
    "\n",
    "def makeList():\n",
    "\twb = xlrd.open_workbook('student.xls')\n",
    "\tws = wb.sheet_by_index(0)\n",
    "\tprint (ws.nrows)\n",
    "\tkeys = ws.row_values(0)\n",
    "\tstudents = []\n",
    "\tfor i in range(1, ws.nrows):\n",
    "\t\trow = ws.row_values(i)\n",
    "\t\tscores = row[2:]\n",
    "\t\trow = row[:2] \n",
    "\t\trow.append(scores)\n",
    "\t\td = dict(zip(keys, row))\n",
    "\t\tstudents.append(d)\n",
    "\n",
    "\treturn students"
   ]
  },
  {
   "cell_type": "code",
   "execution_count": 115,
   "metadata": {},
   "outputs": [],
   "source": [
    "def printList(students):\n",
    "\tkeyvals = list(students[0].keys())\n",
    "\tfor j in range(len(keyvals)):\n",
    "\t\tprint (f'{keyvals[j]:<20}', end= '\\t' )\n",
    "\tprint ()\n",
    "\tfor i in range(len(students)):\n",
    "\t\tfor j in range(len(keyvals)):\n",
    "\t\t\tif keyvals[j] == 'Scores':\n",
    "\t\t\t\tfor sci in range(len(students[i][keyvals[j]])):\n",
    "\t\t\t\t\tprint (f'{students[i][keyvals[j]][sci]:<10}', end='\\t') \n",
    "\t\t\telse:\n",
    "\t\t\t\tprint (f'{students[i][keyvals[j]]:<20}', end='\\t') \n",
    "\t\tprint ()\n",
    "\n",
    "\n"
   ]
  },
  {
   "cell_type": "code",
   "execution_count": 146,
   "metadata": {},
   "outputs": [],
   "source": [
    "def scoresbySubject(students):\n",
    "\tscorelist = []\n",
    "\tfor i in range(len(students)):\n",
    "\t\tscorelist.append(students[i]['Scores'])\n",
    "\tscorelist = list(zip(*scorelist))\n",
    "\tprint (scorelist)\n",
    "\tkeys = ['1st', '2nd', '3rd', '4th']\n",
    "\tresult = dict(zip(keys, scorelist))\n",
    "\treturn result\n",
    "\n",
    "\n",
    "\n"
   ]
  },
  {
   "cell_type": "code",
   "execution_count": 121,
   "metadata": {},
   "outputs": [],
   "source": [
    "def gt330(students):\n",
    "\tssum = sum(students['Scores'])\n",
    "\tif ssum > 330:\n",
    "\t\treturn True\n",
    "\telse:\n",
    "\t\treturn False\n",
    "\n",
    "\n",
    "def findStudents(students):\n",
    "\tresult = list(filter(gt330, students))\n",
    "\treturn result\n",
    "\n",
    "\t\t"
   ]
  },
  {
   "cell_type": "code",
   "execution_count": 2,
   "metadata": {},
   "outputs": [],
   "source": [
    "from functools import reduce\n",
    "\n",
    "def getAvg(a, b):\n",
    "\treturn (a+b)\n",
    "\n",
    "\n",
    "def getAvgList(students):\n",
    "\tavglist=[]\n",
    "\tfor i in range(len(students)):\n",
    "\t\tavgvalue = reduce(getAvg, students[i]['Scores']) / len(students[i]['Scores']) \n",
    "\t\tavglist.append(avgvalue)\n",
    "\treturn avglist"
   ]
  },
  {
   "cell_type": "code",
   "execution_count": 3,
   "metadata": {},
   "outputs": [
    {
     "ename": "NameError",
     "evalue": "name 'makeList' is not defined",
     "output_type": "error",
     "traceback": [
      "\u001b[0;31m---------------------------------------------------------------------------\u001b[0m",
      "\u001b[0;31mNameError\u001b[0m                                 Traceback (most recent call last)",
      "\u001b[1;32m/Users/kyulee/Library/CloudStorage/GoogleDrive-kwooler@gmail.com/My Drive/DVC/COMSC140-1856/COMSC140-Github/COMSC140/Quiz7/quiz7.ipynb Cell 8\u001b[0m in \u001b[0;36m<cell line: 13>\u001b[0;34m()\u001b[0m\n\u001b[1;32m      <a href='vscode-notebook-cell:/Users/kyulee/Library/CloudStorage/GoogleDrive-kwooler%40gmail.com/My%20Drive/DVC/COMSC140-1856/COMSC140-Github/COMSC140/Quiz7/quiz7.ipynb#X10sZmlsZQ%3D%3D?line=8'>9</a>\u001b[0m \t\u001b[39mprint\u001b[39m (avglist)\n\u001b[1;32m     <a href='vscode-notebook-cell:/Users/kyulee/Library/CloudStorage/GoogleDrive-kwooler%40gmail.com/My%20Drive/DVC/COMSC140-1856/COMSC140-Github/COMSC140/Quiz7/quiz7.ipynb#X10sZmlsZQ%3D%3D?line=12'>13</a>\u001b[0m \u001b[39mif\u001b[39;00m \u001b[39m__name__\u001b[39m \u001b[39m==\u001b[39m \u001b[39m'\u001b[39m\u001b[39m__main__\u001b[39m\u001b[39m'\u001b[39m:\n\u001b[0;32m---> <a href='vscode-notebook-cell:/Users/kyulee/Library/CloudStorage/GoogleDrive-kwooler%40gmail.com/My%20Drive/DVC/COMSC140-1856/COMSC140-Github/COMSC140/Quiz7/quiz7.ipynb#X10sZmlsZQ%3D%3D?line=13'>14</a>\u001b[0m \tmain()\n",
      "\u001b[1;32m/Users/kyulee/Library/CloudStorage/GoogleDrive-kwooler@gmail.com/My Drive/DVC/COMSC140-1856/COMSC140-Github/COMSC140/Quiz7/quiz7.ipynb Cell 8\u001b[0m in \u001b[0;36mmain\u001b[0;34m()\u001b[0m\n\u001b[1;32m      <a href='vscode-notebook-cell:/Users/kyulee/Library/CloudStorage/GoogleDrive-kwooler%40gmail.com/My%20Drive/DVC/COMSC140-1856/COMSC140-Github/COMSC140/Quiz7/quiz7.ipynb#X10sZmlsZQ%3D%3D?line=0'>1</a>\u001b[0m \u001b[39mdef\u001b[39;00m \u001b[39mmain\u001b[39m():\n\u001b[0;32m----> <a href='vscode-notebook-cell:/Users/kyulee/Library/CloudStorage/GoogleDrive-kwooler%40gmail.com/My%20Drive/DVC/COMSC140-1856/COMSC140-Github/COMSC140/Quiz7/quiz7.ipynb#X10sZmlsZQ%3D%3D?line=1'>2</a>\u001b[0m \tstudents \u001b[39m=\u001b[39m makeList()\n\u001b[1;32m      <a href='vscode-notebook-cell:/Users/kyulee/Library/CloudStorage/GoogleDrive-kwooler%40gmail.com/My%20Drive/DVC/COMSC140-1856/COMSC140-Github/COMSC140/Quiz7/quiz7.ipynb#X10sZmlsZQ%3D%3D?line=2'>3</a>\u001b[0m \tprintList(students)\n\u001b[1;32m      <a href='vscode-notebook-cell:/Users/kyulee/Library/CloudStorage/GoogleDrive-kwooler%40gmail.com/My%20Drive/DVC/COMSC140-1856/COMSC140-Github/COMSC140/Quiz7/quiz7.ipynb#X10sZmlsZQ%3D%3D?line=3'>4</a>\u001b[0m \tscorelist \u001b[39m=\u001b[39m scoresbySubject(students)\n",
      "\u001b[0;31mNameError\u001b[0m: name 'makeList' is not defined"
     ]
    }
   ],
   "source": [
    "def main():\n",
    "\tstudents = makeList()\n",
    "\tprintList(students)\n",
    "\tscorelist = scoresbySubject(students)\n",
    "\tprint (scorelist)\n",
    "\tgtlist = findStudents(students)\n",
    "\tprintList(gtlist)\n",
    "\tavglist = getAvgList(students)\n",
    "\tprint (avglist)\n",
    "\n",
    "\n",
    "\n",
    "if __name__ == '__main__':\n",
    "\tmain()\n"
   ]
  },
  {
   "cell_type": "code",
   "execution_count": 39,
   "metadata": {},
   "outputs": [
    {
     "name": "stdout",
     "output_type": "stream",
     "text": [
      "dict_keys([1, 2, 3])\n"
     ]
    }
   ],
   "source": [
    "d = {1:2, 2:3, 3:4}\n",
    "\n",
    "keys = d.keys()\n",
    "\n",
    "print (keys)"
   ]
  }
 ],
 "metadata": {
  "kernelspec": {
   "display_name": "Python 3.9.7 ('base')",
   "language": "python",
   "name": "python3"
  },
  "language_info": {
   "codemirror_mode": {
    "name": "ipython",
    "version": 3
   },
   "file_extension": ".py",
   "mimetype": "text/x-python",
   "name": "python",
   "nbconvert_exporter": "python",
   "pygments_lexer": "ipython3",
   "version": "3.9.7"
  },
  "orig_nbformat": 4,
  "vscode": {
   "interpreter": {
    "hash": "a614fddea9d37e019a720cc724ab725ff28be4e0e64e91a691a8738e1909110d"
   }
  }
 },
 "nbformat": 4,
 "nbformat_minor": 2
}
